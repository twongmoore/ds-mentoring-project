{
 "cells": [
  {
   "cell_type": "markdown",
   "id": "b1fa47ea-8f86-4f2e-a1f4-b5d4e8bcec2d",
   "metadata": {},
   "source": [
    "# Titanic Mini Project"
   ]
  },
  {
   "cell_type": "markdown",
   "id": "cfe7d6f0-cce9-436c-8931-7322bb2e401f",
   "metadata": {},
   "source": [
    "Welcome to the mini project! \n",
    "\n",
    "Here we're gonna use the titanic data set to learn some key data science skills to get you going. The project will be broken down into \n",
    "\n",
    "- Data Wrangling\n",
    "- Data Visualisation \n",
    "- Predictive modelling \n",
    "- Conclusions\n",
    "\n",
    "The aim of this project is to analyse the Titanic data set and predict who survived the Titanic disaster. "
   ]
  },
  {
   "cell_type": "markdown",
   "id": "99257bd4-5a0d-420e-91d5-5a7b09954fa2",
   "metadata": {
    "tags": []
   },
   "source": [
    "## Data Wrangling"
   ]
  },
  {
   "cell_type": "markdown",
   "id": "4f0eca85-d299-4d5d-b9af-420d507b1361",
   "metadata": {},
   "source": [
    "Before beginning you need to download and read in the data. Instructions can be found here. https://makeschool.org/mediabook/oa/tutorials/titanic-dataset-tutorial-an-intro-to-data-analysis-and-statistics-n40/getting-our-bearings/ \n",
    "Please use the TRAIN csv for all this analysis not test!"
   ]
  },
  {
   "cell_type": "code",
   "execution_count": 3,
   "id": "cb05eef1-e140-4eee-a20a-badabfdb4386",
   "metadata": {
    "tags": []
   },
   "outputs": [],
   "source": [
    "import pandas as pd"
   ]
  },
  {
   "cell_type": "markdown",
   "id": "517d8d1f-cdf7-4f24-b6ae-2a62ab89de2d",
   "metadata": {
    "tags": []
   },
   "source": [
    "Problem 1 - Look at the data."
   ]
  },
  {
   "cell_type": "code",
   "execution_count": 7,
   "id": "84950799-dc5f-4a13-95df-44ef220a899a",
   "metadata": {},
   "outputs": [
    {
     "data": {
      "text/html": [
       "<div>\n",
       "<style scoped>\n",
       "    .dataframe tbody tr th:only-of-type {\n",
       "        vertical-align: middle;\n",
       "    }\n",
       "\n",
       "    .dataframe tbody tr th {\n",
       "        vertical-align: top;\n",
       "    }\n",
       "\n",
       "    .dataframe thead th {\n",
       "        text-align: right;\n",
       "    }\n",
       "</style>\n",
       "<table border=\"1\" class=\"dataframe\">\n",
       "  <thead>\n",
       "    <tr style=\"text-align: right;\">\n",
       "      <th></th>\n",
       "      <th>PassengerId</th>\n",
       "      <th>Survived</th>\n",
       "      <th>Pclass</th>\n",
       "      <th>Name</th>\n",
       "      <th>Sex</th>\n",
       "      <th>Age</th>\n",
       "      <th>SibSp</th>\n",
       "      <th>Parch</th>\n",
       "      <th>Ticket</th>\n",
       "      <th>Fare</th>\n",
       "      <th>Cabin</th>\n",
       "      <th>Embarked</th>\n",
       "    </tr>\n",
       "  </thead>\n",
       "  <tbody>\n",
       "    <tr>\n",
       "      <th>0</th>\n",
       "      <td>1</td>\n",
       "      <td>0</td>\n",
       "      <td>3</td>\n",
       "      <td>Braund, Mr. Owen Harris</td>\n",
       "      <td>male</td>\n",
       "      <td>22.0</td>\n",
       "      <td>1</td>\n",
       "      <td>0</td>\n",
       "      <td>A/5 21171</td>\n",
       "      <td>7.2500</td>\n",
       "      <td>NaN</td>\n",
       "      <td>S</td>\n",
       "    </tr>\n",
       "    <tr>\n",
       "      <th>1</th>\n",
       "      <td>2</td>\n",
       "      <td>1</td>\n",
       "      <td>1</td>\n",
       "      <td>Cumings, Mrs. John Bradley (Florence Briggs Th...</td>\n",
       "      <td>female</td>\n",
       "      <td>38.0</td>\n",
       "      <td>1</td>\n",
       "      <td>0</td>\n",
       "      <td>PC 17599</td>\n",
       "      <td>71.2833</td>\n",
       "      <td>C85</td>\n",
       "      <td>C</td>\n",
       "    </tr>\n",
       "    <tr>\n",
       "      <th>2</th>\n",
       "      <td>3</td>\n",
       "      <td>1</td>\n",
       "      <td>3</td>\n",
       "      <td>Heikkinen, Miss. Laina</td>\n",
       "      <td>female</td>\n",
       "      <td>26.0</td>\n",
       "      <td>0</td>\n",
       "      <td>0</td>\n",
       "      <td>STON/O2. 3101282</td>\n",
       "      <td>7.9250</td>\n",
       "      <td>NaN</td>\n",
       "      <td>S</td>\n",
       "    </tr>\n",
       "    <tr>\n",
       "      <th>3</th>\n",
       "      <td>4</td>\n",
       "      <td>1</td>\n",
       "      <td>1</td>\n",
       "      <td>Futrelle, Mrs. Jacques Heath (Lily May Peel)</td>\n",
       "      <td>female</td>\n",
       "      <td>35.0</td>\n",
       "      <td>1</td>\n",
       "      <td>0</td>\n",
       "      <td>113803</td>\n",
       "      <td>53.1000</td>\n",
       "      <td>C123</td>\n",
       "      <td>S</td>\n",
       "    </tr>\n",
       "    <tr>\n",
       "      <th>4</th>\n",
       "      <td>5</td>\n",
       "      <td>0</td>\n",
       "      <td>3</td>\n",
       "      <td>Allen, Mr. William Henry</td>\n",
       "      <td>male</td>\n",
       "      <td>35.0</td>\n",
       "      <td>0</td>\n",
       "      <td>0</td>\n",
       "      <td>373450</td>\n",
       "      <td>8.0500</td>\n",
       "      <td>NaN</td>\n",
       "      <td>S</td>\n",
       "    </tr>\n",
       "    <tr>\n",
       "      <th>...</th>\n",
       "      <td>...</td>\n",
       "      <td>...</td>\n",
       "      <td>...</td>\n",
       "      <td>...</td>\n",
       "      <td>...</td>\n",
       "      <td>...</td>\n",
       "      <td>...</td>\n",
       "      <td>...</td>\n",
       "      <td>...</td>\n",
       "      <td>...</td>\n",
       "      <td>...</td>\n",
       "      <td>...</td>\n",
       "    </tr>\n",
       "    <tr>\n",
       "      <th>886</th>\n",
       "      <td>887</td>\n",
       "      <td>0</td>\n",
       "      <td>2</td>\n",
       "      <td>Montvila, Rev. Juozas</td>\n",
       "      <td>male</td>\n",
       "      <td>27.0</td>\n",
       "      <td>0</td>\n",
       "      <td>0</td>\n",
       "      <td>211536</td>\n",
       "      <td>13.0000</td>\n",
       "      <td>NaN</td>\n",
       "      <td>S</td>\n",
       "    </tr>\n",
       "    <tr>\n",
       "      <th>887</th>\n",
       "      <td>888</td>\n",
       "      <td>1</td>\n",
       "      <td>1</td>\n",
       "      <td>Graham, Miss. Margaret Edith</td>\n",
       "      <td>female</td>\n",
       "      <td>19.0</td>\n",
       "      <td>0</td>\n",
       "      <td>0</td>\n",
       "      <td>112053</td>\n",
       "      <td>30.0000</td>\n",
       "      <td>B42</td>\n",
       "      <td>S</td>\n",
       "    </tr>\n",
       "    <tr>\n",
       "      <th>888</th>\n",
       "      <td>889</td>\n",
       "      <td>0</td>\n",
       "      <td>3</td>\n",
       "      <td>Johnston, Miss. Catherine Helen \"Carrie\"</td>\n",
       "      <td>female</td>\n",
       "      <td>NaN</td>\n",
       "      <td>1</td>\n",
       "      <td>2</td>\n",
       "      <td>W./C. 6607</td>\n",
       "      <td>23.4500</td>\n",
       "      <td>NaN</td>\n",
       "      <td>S</td>\n",
       "    </tr>\n",
       "    <tr>\n",
       "      <th>889</th>\n",
       "      <td>890</td>\n",
       "      <td>1</td>\n",
       "      <td>1</td>\n",
       "      <td>Behr, Mr. Karl Howell</td>\n",
       "      <td>male</td>\n",
       "      <td>26.0</td>\n",
       "      <td>0</td>\n",
       "      <td>0</td>\n",
       "      <td>111369</td>\n",
       "      <td>30.0000</td>\n",
       "      <td>C148</td>\n",
       "      <td>C</td>\n",
       "    </tr>\n",
       "    <tr>\n",
       "      <th>890</th>\n",
       "      <td>891</td>\n",
       "      <td>0</td>\n",
       "      <td>3</td>\n",
       "      <td>Dooley, Mr. Patrick</td>\n",
       "      <td>male</td>\n",
       "      <td>32.0</td>\n",
       "      <td>0</td>\n",
       "      <td>0</td>\n",
       "      <td>370376</td>\n",
       "      <td>7.7500</td>\n",
       "      <td>NaN</td>\n",
       "      <td>Q</td>\n",
       "    </tr>\n",
       "  </tbody>\n",
       "</table>\n",
       "<p>891 rows × 12 columns</p>\n",
       "</div>"
      ],
      "text/plain": [
       "     PassengerId  Survived  Pclass  \\\n",
       "0              1         0       3   \n",
       "1              2         1       1   \n",
       "2              3         1       3   \n",
       "3              4         1       1   \n",
       "4              5         0       3   \n",
       "..           ...       ...     ...   \n",
       "886          887         0       2   \n",
       "887          888         1       1   \n",
       "888          889         0       3   \n",
       "889          890         1       1   \n",
       "890          891         0       3   \n",
       "\n",
       "                                                  Name     Sex   Age  SibSp  \\\n",
       "0                              Braund, Mr. Owen Harris    male  22.0      1   \n",
       "1    Cumings, Mrs. John Bradley (Florence Briggs Th...  female  38.0      1   \n",
       "2                               Heikkinen, Miss. Laina  female  26.0      0   \n",
       "3         Futrelle, Mrs. Jacques Heath (Lily May Peel)  female  35.0      1   \n",
       "4                             Allen, Mr. William Henry    male  35.0      0   \n",
       "..                                                 ...     ...   ...    ...   \n",
       "886                              Montvila, Rev. Juozas    male  27.0      0   \n",
       "887                       Graham, Miss. Margaret Edith  female  19.0      0   \n",
       "888           Johnston, Miss. Catherine Helen \"Carrie\"  female   NaN      1   \n",
       "889                              Behr, Mr. Karl Howell    male  26.0      0   \n",
       "890                                Dooley, Mr. Patrick    male  32.0      0   \n",
       "\n",
       "     Parch            Ticket     Fare Cabin Embarked  \n",
       "0        0         A/5 21171   7.2500   NaN        S  \n",
       "1        0          PC 17599  71.2833   C85        C  \n",
       "2        0  STON/O2. 3101282   7.9250   NaN        S  \n",
       "3        0            113803  53.1000  C123        S  \n",
       "4        0            373450   8.0500   NaN        S  \n",
       "..     ...               ...      ...   ...      ...  \n",
       "886      0            211536  13.0000   NaN        S  \n",
       "887      0            112053  30.0000   B42        S  \n",
       "888      2        W./C. 6607  23.4500   NaN        S  \n",
       "889      0            111369  30.0000  C148        C  \n",
       "890      0            370376   7.7500   NaN        Q  \n",
       "\n",
       "[891 rows x 12 columns]"
      ]
     },
     "execution_count": 7,
     "metadata": {},
     "output_type": "execute_result"
    }
   ],
   "source": [
    "df = pd.read_csv('train.csv')\n",
    "df"
   ]
  },
  {
   "cell_type": "markdown",
   "id": "6471743b-020c-4550-ba35-159e29fd9a5b",
   "metadata": {
    "tags": []
   },
   "source": [
    "Problem 2 - How many rows are in the data "
   ]
  },
  {
   "cell_type": "code",
   "execution_count": 9,
   "id": "718379c7-2f1b-4167-b91c-940386f64866",
   "metadata": {},
   "outputs": [
    {
     "name": "stdout",
     "output_type": "stream",
     "text": [
      "Number of rows: 891\n"
     ]
    }
   ],
   "source": [
    "num_rows = df.shape[0]\n",
    "print(\"Number of rows:\", num_rows)"
   ]
  },
  {
   "cell_type": "markdown",
   "id": "f23f8367-403e-4d8e-ab05-7b7816306f5d",
   "metadata": {},
   "source": [
    "Problem 3 - How many columns are in the data "
   ]
  },
  {
   "cell_type": "code",
   "execution_count": 11,
   "id": "a3e887cb-75d6-4371-a083-c5444b872052",
   "metadata": {},
   "outputs": [
    {
     "name": "stdout",
     "output_type": "stream",
     "text": [
      "Number of columns: 12\n"
     ]
    }
   ],
   "source": [
    "num_cols = df.shape[1]\n",
    "print(\"Number of columns:\", num_cols)"
   ]
  },
  {
   "cell_type": "markdown",
   "id": "5db5bfd4-4294-4afc-95fe-33deabf241eb",
   "metadata": {},
   "source": [
    "Problem 4 - What is the mean, max and min age in the data?"
   ]
  },
  {
   "cell_type": "code",
   "execution_count": 12,
   "id": "0ce2d23b-8f92-47c1-9f62-4d2ef97e3a1b",
   "metadata": {},
   "outputs": [
    {
     "name": "stdout",
     "output_type": "stream",
     "text": [
      "Minimum Age: 0.42\n",
      "Maximum Age: 80.0\n",
      "Mean Age: 29.69911764705882\n"
     ]
    }
   ],
   "source": [
    "# Calculate minimum, maximum, and mean of the 'Age' column\n",
    "age_min = df['Age'].min()\n",
    "age_max = df['Age'].max()\n",
    "age_mean = df['Age'].mean()\n",
    "\n",
    "# Print the results\n",
    "print(\"Minimum Age:\", age_min)\n",
    "print(\"Maximum Age:\", age_max)\n",
    "print(\"Mean Age:\", age_mean)"
   ]
  },
  {
   "cell_type": "markdown",
   "id": "3901d00c-98e4-4494-87c5-b9c25ed169cd",
   "metadata": {
    "tags": []
   },
   "source": [
    "Problem 5 - Workout the difference between min and max age"
   ]
  },
  {
   "cell_type": "code",
   "execution_count": 23,
   "id": "646f8a9d-3bc3-4dc8-9f98-57416d70bf86",
   "metadata": {},
   "outputs": [
    {
     "name": "stdout",
     "output_type": "stream",
     "text": [
      "Max/Min Age difference: 79.58\n"
     ]
    }
   ],
   "source": [
    "age_dif = age_max - age_min\n",
    "print(\"Max/Min Age difference:\", age_dif)"
   ]
  },
  {
   "cell_type": "markdown",
   "id": "1272d3fd-e8d3-4a35-ab79-3d7834f5c2ba",
   "metadata": {},
   "source": [
    "Problem 6 - What are the different data types in the data frame"
   ]
  },
  {
   "cell_type": "code",
   "execution_count": 15,
   "id": "552efdb7-a20a-487b-9c0c-05f9c1171a53",
   "metadata": {},
   "outputs": [
    {
     "name": "stdout",
     "output_type": "stream",
     "text": [
      "PassengerId      int64\n",
      "Survived         int64\n",
      "Pclass           int64\n",
      "Name            object\n",
      "Sex             object\n",
      "Age            float64\n",
      "SibSp            int64\n",
      "Parch            int64\n",
      "Ticket          object\n",
      "Fare           float64\n",
      "Cabin           object\n",
      "Embarked        object\n",
      "dtype: object\n"
     ]
    }
   ],
   "source": [
    "# Get the data types of columns\n",
    "column_types = df.dtypes\n",
    "\n",
    "# Print the column data types\n",
    "print(column_types)"
   ]
  },
  {
   "cell_type": "markdown",
   "id": "82be3028-75ef-4967-b559-3618117ddcd8",
   "metadata": {},
   "source": [
    "Problem 7 - How many of each data type are there (hint: each column has a data type so amount of columns should = answer)"
   ]
  },
  {
   "cell_type": "code",
   "execution_count": 16,
   "id": "ab3904db-b72f-4901-9753-82c1503d9dd4",
   "metadata": {},
   "outputs": [
    {
     "name": "stdout",
     "output_type": "stream",
     "text": [
      "int64      5\n",
      "object     5\n",
      "float64    2\n",
      "Name: count, dtype: int64\n"
     ]
    }
   ],
   "source": [
    "# Count the number of columns for each data type\n",
    "data_type_counts = df.dtypes.value_counts()\n",
    "\n",
    "# Print the data type counts\n",
    "print(data_type_counts)"
   ]
  },
  {
   "cell_type": "markdown",
   "id": "8b9a5cb2-9cef-4395-a4a9-2e9079995fee",
   "metadata": {
    "tags": []
   },
   "source": [
    "Problem 8 - How many distinct cabins are there (hint: remember distinct!)"
   ]
  },
  {
   "cell_type": "code",
   "execution_count": 17,
   "id": "7528c4cb-af86-4b8a-afe1-7a049f590276",
   "metadata": {},
   "outputs": [
    {
     "name": "stdout",
     "output_type": "stream",
     "text": [
      "Number of distinct cabins: 147\n"
     ]
    }
   ],
   "source": [
    "# Count the number of distinct cabins\n",
    "cabin_count = df['Cabin'].nunique()\n",
    "\n",
    "# Print the number of distinct cabins\n",
    "print(\"Number of distinct cabins:\", cabin_count)"
   ]
  },
  {
   "cell_type": "markdown",
   "id": "b1adab98-a70a-4f24-8dca-7be8b9206f89",
   "metadata": {
    "tags": []
   },
   "source": [
    "Problem 9 - How many females were on board?"
   ]
  },
  {
   "cell_type": "code",
   "execution_count": 19,
   "id": "60e9e404-e204-43aa-8ff0-ebfd6ae0c447",
   "metadata": {},
   "outputs": [
    {
     "name": "stdout",
     "output_type": "stream",
     "text": [
      "Sex\n",
      "male      577\n",
      "female    314\n",
      "Name: count, dtype: int64\n"
     ]
    }
   ],
   "source": [
    "# Count the number of each level within the \"Sex\" column\n",
    "sex_counts = df['Sex'].value_counts()\n",
    "\n",
    "# Print the counts\n",
    "print(sex_counts)"
   ]
  },
  {
   "cell_type": "markdown",
   "id": "a8739775-429b-45db-8e59-a49bafc4dafe",
   "metadata": {
    "tags": []
   },
   "source": [
    "Problem 10 - Was there more males onboard or distinct cabins? "
   ]
  },
  {
   "cell_type": "code",
   "execution_count": null,
   "id": "c7a88b70-f533-4e80-b3da-b20f2e663871",
   "metadata": {},
   "outputs": [],
   "source": [
    "# Save the number of males as a variable\n",
    "num_males = sex_counts['male']\n",
    "\n",
    "print(\"Number of males:\", num_males)\n",
    "print(\"Number of distinct cabins:\", cabin_count)"
   ]
  },
  {
   "cell_type": "markdown",
   "id": "2f6f3ca3-c244-4ee2-9821-82487dc41822",
   "metadata": {
    "tags": []
   },
   "source": [
    "Bonus Problem - What was the count of males and females aged between 20-40 that were "
   ]
  },
  {
   "cell_type": "code",
   "execution_count": 21,
   "id": "5980fab1-6aeb-46d9-85c9-f66f7dc62d8f",
   "metadata": {},
   "outputs": [
    {
     "name": "stdout",
     "output_type": "stream",
     "text": [
      "Number of males aged between 20 and 40: 262\n",
      "Number of females aged between 20 and 40: 138\n"
     ]
    }
   ],
   "source": [
    "# Filter the data for males and females aged between 20 and 40\n",
    "filtered_data = df[(df['Age'] >= 20) & (df['Age'] <= 40)]\n",
    "male_count = filtered_data[filtered_data['Sex'] == 'male'].shape[0]\n",
    "female_count = filtered_data[filtered_data['Sex'] == 'female'].shape[0]\n",
    "\n",
    "# Print the counts\n",
    "print(\"Number of males aged between 20 and 40:\", male_count)\n",
    "print(\"Number of females aged between 20 and 40:\", female_count)"
   ]
  }
 ],
 "metadata": {
  "kernelspec": {
   "display_name": "Python 3 (ipykernel)",
   "language": "python",
   "name": "python3"
  },
  "language_info": {
   "codemirror_mode": {
    "name": "ipython",
    "version": 3
   },
   "file_extension": ".py",
   "mimetype": "text/x-python",
   "name": "python",
   "nbconvert_exporter": "python",
   "pygments_lexer": "ipython3",
   "version": "3.9.7"
  }
 },
 "nbformat": 4,
 "nbformat_minor": 5
}
